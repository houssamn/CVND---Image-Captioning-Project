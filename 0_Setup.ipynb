{
 "cells": [
  {
   "cell_type": "markdown",
   "id": "falling-banking",
   "metadata": {},
   "source": [
    "# Setup \n",
    "\n",
    "\n"
   ]
  },
  {
   "cell_type": "markdown",
   "id": "convenient-stadium",
   "metadata": {},
   "source": [
    "### Download the annotations from the COCO Dataset"
   ]
  },
  {
   "cell_type": "code",
   "execution_count": 2,
   "id": "precious-jacob",
   "metadata": {},
   "outputs": [],
   "source": [
    "# # Download Annotations + Train/Validation Images \n",
    "# !mkdir data\n",
    "# !cd data\n",
    "# !wget http://images.cocodataset.org/annotations/annotations_trainval2014.zip\n",
    "# !wget http://images.cocodataset.org/zips/train2014.zip\n",
    "# !wget http://images.cocodataset.org/zips/val2014.zip\n",
    "# !wget http://images.cocodataset.org/annotations/image_info_test2014.zip\n",
    "# !unzip annotations_trainval2014.zip\n",
    "# !unzip train2014.zip\n",
    "# !unzip val2014.zip\n",
    "# !unzip image_info_test2014.zip\n",
    "# rm *.zip\n"
   ]
  },
  {
   "cell_type": "code",
   "execution_count": 9,
   "id": "surprised-recruitment",
   "metadata": {},
   "outputs": [
    {
     "name": "stderr",
     "output_type": "stream",
     "text": [
      "[nltk_data] Downloading package punkt to /home/houssam/nltk_data...\n",
      "[nltk_data]   Unzipping tokenizers/punkt.zip.\n"
     ]
    },
    {
     "data": {
      "text/plain": [
       "True"
      ]
     },
     "execution_count": 9,
     "metadata": {},
     "output_type": "execute_result"
    }
   ],
   "source": [
    "# Setup nltk\n",
    "import nltk\n",
    "nltk.download('punkt')"
   ]
  },
  {
   "cell_type": "code",
   "execution_count": null,
   "id": "immediate-circle",
   "metadata": {},
   "outputs": [],
   "source": []
  },
  {
   "cell_type": "code",
   "execution_count": null,
   "id": "balanced-techno",
   "metadata": {},
   "outputs": [],
   "source": []
  },
  {
   "cell_type": "code",
   "execution_count": null,
   "id": "pressing-assets",
   "metadata": {},
   "outputs": [],
   "source": []
  },
  {
   "cell_type": "code",
   "execution_count": null,
   "id": "related-bangkok",
   "metadata": {},
   "outputs": [],
   "source": []
  }
 ],
 "metadata": {
  "kernelspec": {
   "display_name": "image_caption",
   "language": "python",
   "name": "conda-env-image_caption-py"
  },
  "language_info": {
   "codemirror_mode": {
    "name": "ipython",
    "version": 3
   },
   "file_extension": ".py",
   "mimetype": "text/x-python",
   "name": "python",
   "nbconvert_exporter": "python",
   "pygments_lexer": "ipython3",
   "version": "3.7.10"
  }
 },
 "nbformat": 4,
 "nbformat_minor": 5
}
