{
 "cells": [
  {
   "cell_type": "markdown",
   "id": "valid-crystal",
   "metadata": {},
   "source": [
    "# Setup \n",
    "\n",
    "\n"
   ]
  },
  {
   "cell_type": "markdown",
   "id": "abstract-garbage",
   "metadata": {},
   "source": [
    "### Download the annotations from the COCO Dataset"
   ]
  },
  {
   "cell_type": "code",
   "execution_count": 2,
   "id": "verified-blame",
   "metadata": {},
   "outputs": [],
   "source": [
    "# # Download Annotations + Train/Validation Images \n",
    "# !mkdir data\n",
    "# !cd data\n",
    "# !wget http://images.cocodataset.org/annotations/annotations_trainval2014.zip\n",
    "# !wget http://images.cocodataset.org/zips/train2014.zip\n",
    "# !wget http://images.cocodataset.org/zips/test2014.zip\n",
    "# !wget http://images.cocodataset.org/annotations/image_info_test2014.zip\n",
    "# !unzip annotations_trainval2014.zip\n",
    "# !unzip train2014.zip\n",
    "# !unzip val2014.zip\n",
    "# !unzip image_info_test2014.zip\n",
    "# rm *.zip\n"
   ]
  },
  {
   "cell_type": "code",
   "execution_count": 9,
   "id": "promotional-black",
   "metadata": {},
   "outputs": [
    {
     "name": "stderr",
     "output_type": "stream",
     "text": [
      "[nltk_data] Downloading package punkt to /home/houssam/nltk_data...\n",
      "[nltk_data]   Unzipping tokenizers/punkt.zip.\n"
     ]
    },
    {
     "data": {
      "text/plain": [
       "True"
      ]
     },
     "execution_count": 9,
     "metadata": {},
     "output_type": "execute_result"
    }
   ],
   "source": [
    "# Setup nltk\n",
    "import nltk\n",
    "nltk.download('punkt')"
   ]
  },
  {
   "cell_type": "code",
   "execution_count": null,
   "id": "challenging-spokesman",
   "metadata": {},
   "outputs": [],
   "source": []
  },
  {
   "cell_type": "code",
   "execution_count": null,
   "id": "square-hayes",
   "metadata": {},
   "outputs": [],
   "source": []
  },
  {
   "cell_type": "code",
   "execution_count": null,
   "id": "placed-afghanistan",
   "metadata": {},
   "outputs": [],
   "source": []
  },
  {
   "cell_type": "code",
   "execution_count": null,
   "id": "regulation-bolivia",
   "metadata": {},
   "outputs": [],
   "source": []
  }
 ],
 "metadata": {
  "kernelspec": {
   "display_name": "image_caption",
   "language": "python",
   "name": "conda-env-image_caption-py"
  },
  "language_info": {
   "codemirror_mode": {
    "name": "ipython",
    "version": 3
   },
   "file_extension": ".py",
   "mimetype": "text/x-python",
   "name": "python",
   "nbconvert_exporter": "python",
   "pygments_lexer": "ipython3",
   "version": "3.7.10"
  }
 },
 "nbformat": 4,
 "nbformat_minor": 5
}
