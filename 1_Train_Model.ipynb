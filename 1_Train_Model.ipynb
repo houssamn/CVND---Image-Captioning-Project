{
 "cells": [
  {
   "cell_type": "markdown",
   "id": "lyric-sharing",
   "metadata": {},
   "source": [
    "## Image Captioning - Training Notebook\n",
    "\n",
    "Make sure to look at setup the project environment and data according to the README."
   ]
  },
  {
   "cell_type": "code",
   "execution_count": 1,
   "id": "animal-issue",
   "metadata": {},
   "outputs": [],
   "source": [
    "import torch\n",
    "import torch.nn as nn\n",
    "from torchvision import transforms\n",
    "from pycocotools.coco import COCO\n",
    "from imcaption.data_loader import get_transform, get_loader\n",
    "from imcaption.model import EncoderCNN, DecoderRNN\n",
    "import math\n",
    "import torch.utils.data as data\n",
    "import numpy as np\n",
    "import os\n",
    "import sys\n",
    "import requests\n",
    "import time\n",
    "\n",
    "batch_size = 16             # batch size\n",
    "vocab_threshold = 20        # minimum word count threshold\n",
    "vocab_from_file = False     # if True, load existing vocab file\n",
    "embed_size = 256            # dimensionality of image and word embeddings\n",
    "hidden_size = 512           # number of features in hidden state of the RNN decoder\n",
    "num_epochs = 5              # number of training epochs\n",
    "save_every = 1              # determines frequency of saving model weights\n",
    "print_every = 2000          # determines window for printing average loss\n",
    "learning_rate = 1e-3        # learning rate passed to the optimizer\n",
    "saved_model_dir = \"saved_models\"  # folder containing the saved model weights"
   ]
  },
  {
   "cell_type": "code",
   "execution_count": 2,
   "id": "imported-beads",
   "metadata": {},
   "outputs": [
    {
     "name": "stderr",
     "output_type": "stream",
     "text": [
      "[nltk_data] Downloading package punkt to /home/houssam/nltk_data...\n",
      "[nltk_data]   Package punkt is already up-to-date!\n"
     ]
    },
    {
     "name": "stdout",
     "output_type": "stream",
     "text": [
      "loading annotations into memory...\n",
      "Done (t=1.59s)\n",
      "creating index...\n",
      "index created!\n",
      "[0/414113] Tokenizing captions...\n",
      "[100000/414113] Tokenizing captions...\n",
      "[200000/414113] Tokenizing captions...\n",
      "[300000/414113] Tokenizing captions...\n",
      "[400000/414113] Tokenizing captions...\n",
      "loading annotations into memory...\n",
      "Done (t=0.68s)\n",
      "creating index...\n"
     ]
    },
    {
     "name": "stderr",
     "output_type": "stream",
     "text": [
      "  0%|          | 792/414113 [00:00<00:52, 7917.91it/s]"
     ]
    },
    {
     "name": "stdout",
     "output_type": "stream",
     "text": [
      "index created!\n",
      "Obtaining caption lengths...\n"
     ]
    },
    {
     "name": "stderr",
     "output_type": "stream",
     "text": [
      "100%|██████████| 414113/414113 [00:49<00:00, 8348.27it/s]\n"
     ]
    }
   ],
   "source": [
    "# Setup nltk\n",
    "import nltk\n",
    "nltk.download('punkt')\n",
    "\n",
    "# Define the Image Transform\n",
    "transform_train = get_transform()\n",
    "\n",
    "# Build data loader.\n",
    "data_loader = get_loader(transform=transform_train,\n",
    "                         mode='train',\n",
    "                         batch_size=batch_size,\n",
    "                         vocab_threshold=vocab_threshold,\n",
    "                         vocab_from_file=vocab_from_file)\n",
    "\n",
    "# The size of the vocabulary.\n",
    "vocab_size = len(data_loader.dataset.vocab)\n",
    "\n",
    "# Initialize the encoder and decoder. \n",
    "encoder = EncoderCNN(embed_size)\n",
    "decoder = DecoderRNN(embed_size, hidden_size, vocab_size)\n",
    "\n",
    "# Move models to GPU if CUDA is available. \n",
    "device = torch.device(\"cuda\" if torch.cuda.is_available() else \"cpu\")\n",
    "encoder.to(device)\n",
    "decoder.to(device)\n",
    "\n",
    "# Define the loss function. \n",
    "criterion = nn.CrossEntropyLoss().cuda() if torch.cuda.is_available() else nn.CrossEntropyLoss()\n",
    "\n",
    "# Specify the learnable parameters of the model.\n",
    "params = decoder.parameters()\n",
    "\n",
    "# Define the optimizer.\n",
    "optimizer = torch.optim.Adam(params, lr=learning_rate)"
   ]
  },
  {
   "cell_type": "code",
   "execution_count": null,
   "id": "floppy-chaos",
   "metadata": {},
   "outputs": [
    {
     "name": "stdout",
     "output_type": "stream",
     "text": [
      "Epoch [1/5], Step [2000/25883], Loss: 3.6123, Perplexity: 37.0494\n",
      "Epoch [1/5], Step [4000/25883], Loss: 2.7713, Perplexity: 15.9792\n",
      "Epoch [1/5], Step [6000/25883], Loss: 2.2727, Perplexity: 9.70529\n",
      "Epoch [1/5], Step [8000/25883], Loss: 2.2720, Perplexity: 9.69854\n",
      "Epoch [1/5], Step [10000/25883], Loss: 2.4542, Perplexity: 11.6373\n",
      "Epoch [1/5], Step [12000/25883], Loss: 2.0725, Perplexity: 7.94450\n",
      "Epoch [1/5], Step [14000/25883], Loss: 2.4636, Perplexity: 11.7468\n",
      "Epoch [1/5], Step [16000/25883], Loss: 2.3179, Perplexity: 10.1546\n",
      "Epoch [1/5], Step [18000/25883], Loss: 2.5545, Perplexity: 12.8646\n",
      "Epoch [1/5], Step [20000/25883], Loss: 2.2813, Perplexity: 9.78967\n",
      "Epoch [1/5], Step [22000/25883], Loss: 2.0412, Perplexity: 7.70005\n",
      "Epoch [1/5], Step [24000/25883], Loss: 2.0952, Perplexity: 8.12696\n",
      "Epoch [2/5], Step [2000/25883], Loss: 2.0445, Perplexity: 7.725482\n",
      "Epoch [2/5], Step [4000/25883], Loss: 2.1870, Perplexity: 8.90866\n",
      "Epoch [2/5], Step [5137/25883], Loss: 2.3620, Perplexity: 10.6125"
     ]
    }
   ],
   "source": [
    "if not os.path.exists(saved_model_dir):\n",
    "    os.mkdir(saved_model_dir)\n",
    "\n",
    "# Set the total number of training steps per epoch.\n",
    "total_step = math.ceil(len(data_loader.dataset.caption_lengths) / data_loader.batch_sampler.batch_size)\n",
    "\n",
    "for epoch in range(1, num_epochs+1):\n",
    "    for i_step in range(1, total_step+1):\n",
    "        # Randomly sample a caption length, and sample indices with that length.\n",
    "        indices = data_loader.dataset.get_train_indices()\n",
    "        # Create and assign a batch sampler to retrieve a batch with the sampled indices.\n",
    "        new_sampler = data.sampler.SubsetRandomSampler(indices=indices)\n",
    "        data_loader.batch_sampler.sampler = new_sampler\n",
    "        \n",
    "        # Obtain the batch.\n",
    "        images, captions = next(iter(data_loader))\n",
    "\n",
    "        # Move batch of images and captions to GPU if CUDA is available.\n",
    "        images = images.to(device)\n",
    "        captions = captions.to(device)\n",
    "        \n",
    "        # Zero the gradients.\n",
    "        decoder.zero_grad()\n",
    "        encoder.zero_grad()\n",
    "        \n",
    "        # Pass the inputs through the CNN-RNN model.\n",
    "        features = encoder(images)\n",
    "        outputs = decoder(features, captions)\n",
    "        \n",
    "        # Calculate the batch loss.\n",
    "        loss = criterion(outputs.view(-1, vocab_size), captions.view(-1))\n",
    "        \n",
    "        # Backward pass.\n",
    "        loss.backward()\n",
    "        \n",
    "        # Update the parameters in the optimizer.\n",
    "        optimizer.step()\n",
    "            \n",
    "        # Get training statistics.\n",
    "        stats = 'Epoch [%d/%d], Step [%d/%d], Loss: %.4f, Perplexity: %5.4f' % (epoch, num_epochs, i_step, total_step, loss.item(), np.exp(loss.item()))\n",
    "        \n",
    "        # Print training statistics (on same line).\n",
    "        print('\\r' + stats, end=\"\")\n",
    "        sys.stdout.flush()\n",
    "        \n",
    "\n",
    "        # Print training statistics (on different line).\n",
    "        if i_step % print_every == 0:\n",
    "            print('\\r' + stats)\n",
    "            \n",
    "    # Save the weights.\n",
    "    if epoch % save_every == 0:\n",
    "        torch.save(decoder.state_dict(), os.path.join(saved_model_dir, 'decoder-%d.pkl' % epoch))\n",
    "        torch.save(encoder.state_dict(), os.path.join(saved_model_dir, 'encoder-%d.pkl' % epoch))\n"
   ]
  },
  {
   "cell_type": "code",
   "execution_count": null,
   "id": "sunset-choir",
   "metadata": {},
   "outputs": [],
   "source": []
  },
  {
   "cell_type": "code",
   "execution_count": null,
   "id": "failing-desktop",
   "metadata": {},
   "outputs": [],
   "source": []
  }
 ],
 "metadata": {
  "kernelspec": {
   "display_name": "image_caption",
   "language": "python",
   "name": "conda-env-image_caption-py"
  },
  "language_info": {
   "codemirror_mode": {
    "name": "ipython",
    "version": 3
   },
   "file_extension": ".py",
   "mimetype": "text/x-python",
   "name": "python",
   "nbconvert_exporter": "python",
   "pygments_lexer": "ipython3",
   "version": "3.7.10"
  }
 },
 "nbformat": 4,
 "nbformat_minor": 5
}
